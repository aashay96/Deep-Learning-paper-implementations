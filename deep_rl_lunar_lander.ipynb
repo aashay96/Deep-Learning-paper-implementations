{
  "nbformat": 4,
  "nbformat_minor": 0,
  "metadata": {
    "colab": {
      "provenance": [],
      "authorship_tag": "ABX9TyN2lsj9Yth/E11gmQVDpwDJ",
      "include_colab_link": true
    },
    "kernelspec": {
      "name": "python3",
      "display_name": "Python 3"
    },
    "language_info": {
      "name": "python"
    },
    "widgets": {
      "application/vnd.jupyter.widget-state+json": {
        "0ea7cd21e4594ee090f32ebd579cb662": {
          "model_module": "@jupyter-widgets/controls",
          "model_name": "VBoxModel",
          "model_module_version": "1.5.0",
          "state": {
            "_dom_classes": [],
            "_model_module": "@jupyter-widgets/controls",
            "_model_module_version": "1.5.0",
            "_model_name": "VBoxModel",
            "_view_count": null,
            "_view_module": "@jupyter-widgets/controls",
            "_view_module_version": "1.5.0",
            "_view_name": "VBoxView",
            "box_style": "",
            "children": [
              "IPY_MODEL_f5ab981fd07942cf91a2942b725449a4",
              "IPY_MODEL_b88fe67724534986abd20fd98ab81c02",
              "IPY_MODEL_69759d288bd647f1bd5651f86abf7579",
              "IPY_MODEL_bf6ed2d95b7b4541925ea5b165163082",
              "IPY_MODEL_c93344741a224c65acc8389368381c2c"
            ],
            "layout": "IPY_MODEL_355cfe6adeed4fb68d998fbecac58634"
          }
        },
        "f5ab981fd07942cf91a2942b725449a4": {
          "model_module": "@jupyter-widgets/controls",
          "model_name": "HTMLModel",
          "model_module_version": "1.5.0",
          "state": {
            "_dom_classes": [],
            "_model_module": "@jupyter-widgets/controls",
            "_model_module_version": "1.5.0",
            "_model_name": "HTMLModel",
            "_view_count": null,
            "_view_module": "@jupyter-widgets/controls",
            "_view_module_version": "1.5.0",
            "_view_name": "HTMLView",
            "description": "",
            "description_tooltip": null,
            "layout": "IPY_MODEL_bbd66394dbb149f8bd883e181e4d9953",
            "placeholder": "​",
            "style": "IPY_MODEL_cb3ede82128f46208923ea63264558ec",
            "value": "<center> <img\nsrc=https://huggingface.co/front/assets/huggingface_logo-noborder.svg\nalt='Hugging Face'> <br> Copy a token from <a\nhref=\"https://huggingface.co/settings/tokens\" target=\"_blank\">your Hugging Face\ntokens page</a> and paste it below. <br> Immediately click login after copying\nyour token or it might be stored in plain text in this notebook file. </center>"
          }
        },
        "b88fe67724534986abd20fd98ab81c02": {
          "model_module": "@jupyter-widgets/controls",
          "model_name": "PasswordModel",
          "model_module_version": "1.5.0",
          "state": {
            "_dom_classes": [],
            "_model_module": "@jupyter-widgets/controls",
            "_model_module_version": "1.5.0",
            "_model_name": "PasswordModel",
            "_view_count": null,
            "_view_module": "@jupyter-widgets/controls",
            "_view_module_version": "1.5.0",
            "_view_name": "PasswordView",
            "continuous_update": true,
            "description": "Token:",
            "description_tooltip": null,
            "disabled": false,
            "layout": "IPY_MODEL_473fd26376c84cf0bad9d239999486c7",
            "placeholder": "​",
            "style": "IPY_MODEL_8a0109ae776e4e37bb3fa4e69582b844",
            "value": ""
          }
        },
        "69759d288bd647f1bd5651f86abf7579": {
          "model_module": "@jupyter-widgets/controls",
          "model_name": "CheckboxModel",
          "model_module_version": "1.5.0",
          "state": {
            "_dom_classes": [],
            "_model_module": "@jupyter-widgets/controls",
            "_model_module_version": "1.5.0",
            "_model_name": "CheckboxModel",
            "_view_count": null,
            "_view_module": "@jupyter-widgets/controls",
            "_view_module_version": "1.5.0",
            "_view_name": "CheckboxView",
            "description": "Add token as git credential?",
            "description_tooltip": null,
            "disabled": false,
            "indent": true,
            "layout": "IPY_MODEL_0274f15f8cda44eebadbc546b9bc18f0",
            "style": "IPY_MODEL_a29d37a7d9c84a33813661445f54d93c",
            "value": true
          }
        },
        "bf6ed2d95b7b4541925ea5b165163082": {
          "model_module": "@jupyter-widgets/controls",
          "model_name": "ButtonModel",
          "model_module_version": "1.5.0",
          "state": {
            "_dom_classes": [],
            "_model_module": "@jupyter-widgets/controls",
            "_model_module_version": "1.5.0",
            "_model_name": "ButtonModel",
            "_view_count": null,
            "_view_module": "@jupyter-widgets/controls",
            "_view_module_version": "1.5.0",
            "_view_name": "ButtonView",
            "button_style": "",
            "description": "Login",
            "disabled": false,
            "icon": "",
            "layout": "IPY_MODEL_51bd67551df247aba378df84388b09e5",
            "style": "IPY_MODEL_774e08ba73214c22b5a7e52cd7e680a5",
            "tooltip": ""
          }
        },
        "c93344741a224c65acc8389368381c2c": {
          "model_module": "@jupyter-widgets/controls",
          "model_name": "HTMLModel",
          "model_module_version": "1.5.0",
          "state": {
            "_dom_classes": [],
            "_model_module": "@jupyter-widgets/controls",
            "_model_module_version": "1.5.0",
            "_model_name": "HTMLModel",
            "_view_count": null,
            "_view_module": "@jupyter-widgets/controls",
            "_view_module_version": "1.5.0",
            "_view_name": "HTMLView",
            "description": "",
            "description_tooltip": null,
            "layout": "IPY_MODEL_88b2aa9ce5ca4873897ecafc140a2a1f",
            "placeholder": "​",
            "style": "IPY_MODEL_6b999a25495245bfa4ad65548f5c4f6f",
            "value": "\n<b>Pro Tip:</b> If you don't already have one, you can create a dedicated\n'notebooks' token with 'write' access, that you can then easily reuse for all\nnotebooks. </center>"
          }
        },
        "355cfe6adeed4fb68d998fbecac58634": {
          "model_module": "@jupyter-widgets/base",
          "model_name": "LayoutModel",
          "model_module_version": "1.2.0",
          "state": {
            "_model_module": "@jupyter-widgets/base",
            "_model_module_version": "1.2.0",
            "_model_name": "LayoutModel",
            "_view_count": null,
            "_view_module": "@jupyter-widgets/base",
            "_view_module_version": "1.2.0",
            "_view_name": "LayoutView",
            "align_content": null,
            "align_items": "center",
            "align_self": null,
            "border": null,
            "bottom": null,
            "display": "flex",
            "flex": null,
            "flex_flow": "column",
            "grid_area": null,
            "grid_auto_columns": null,
            "grid_auto_flow": null,
            "grid_auto_rows": null,
            "grid_column": null,
            "grid_gap": null,
            "grid_row": null,
            "grid_template_areas": null,
            "grid_template_columns": null,
            "grid_template_rows": null,
            "height": null,
            "justify_content": null,
            "justify_items": null,
            "left": null,
            "margin": null,
            "max_height": null,
            "max_width": null,
            "min_height": null,
            "min_width": null,
            "object_fit": null,
            "object_position": null,
            "order": null,
            "overflow": null,
            "overflow_x": null,
            "overflow_y": null,
            "padding": null,
            "right": null,
            "top": null,
            "visibility": null,
            "width": "50%"
          }
        },
        "bbd66394dbb149f8bd883e181e4d9953": {
          "model_module": "@jupyter-widgets/base",
          "model_name": "LayoutModel",
          "model_module_version": "1.2.0",
          "state": {
            "_model_module": "@jupyter-widgets/base",
            "_model_module_version": "1.2.0",
            "_model_name": "LayoutModel",
            "_view_count": null,
            "_view_module": "@jupyter-widgets/base",
            "_view_module_version": "1.2.0",
            "_view_name": "LayoutView",
            "align_content": null,
            "align_items": null,
            "align_self": null,
            "border": null,
            "bottom": null,
            "display": null,
            "flex": null,
            "flex_flow": null,
            "grid_area": null,
            "grid_auto_columns": null,
            "grid_auto_flow": null,
            "grid_auto_rows": null,
            "grid_column": null,
            "grid_gap": null,
            "grid_row": null,
            "grid_template_areas": null,
            "grid_template_columns": null,
            "grid_template_rows": null,
            "height": null,
            "justify_content": null,
            "justify_items": null,
            "left": null,
            "margin": null,
            "max_height": null,
            "max_width": null,
            "min_height": null,
            "min_width": null,
            "object_fit": null,
            "object_position": null,
            "order": null,
            "overflow": null,
            "overflow_x": null,
            "overflow_y": null,
            "padding": null,
            "right": null,
            "top": null,
            "visibility": null,
            "width": null
          }
        },
        "cb3ede82128f46208923ea63264558ec": {
          "model_module": "@jupyter-widgets/controls",
          "model_name": "DescriptionStyleModel",
          "model_module_version": "1.5.0",
          "state": {
            "_model_module": "@jupyter-widgets/controls",
            "_model_module_version": "1.5.0",
            "_model_name": "DescriptionStyleModel",
            "_view_count": null,
            "_view_module": "@jupyter-widgets/base",
            "_view_module_version": "1.2.0",
            "_view_name": "StyleView",
            "description_width": ""
          }
        },
        "473fd26376c84cf0bad9d239999486c7": {
          "model_module": "@jupyter-widgets/base",
          "model_name": "LayoutModel",
          "model_module_version": "1.2.0",
          "state": {
            "_model_module": "@jupyter-widgets/base",
            "_model_module_version": "1.2.0",
            "_model_name": "LayoutModel",
            "_view_count": null,
            "_view_module": "@jupyter-widgets/base",
            "_view_module_version": "1.2.0",
            "_view_name": "LayoutView",
            "align_content": null,
            "align_items": null,
            "align_self": null,
            "border": null,
            "bottom": null,
            "display": null,
            "flex": null,
            "flex_flow": null,
            "grid_area": null,
            "grid_auto_columns": null,
            "grid_auto_flow": null,
            "grid_auto_rows": null,
            "grid_column": null,
            "grid_gap": null,
            "grid_row": null,
            "grid_template_areas": null,
            "grid_template_columns": null,
            "grid_template_rows": null,
            "height": null,
            "justify_content": null,
            "justify_items": null,
            "left": null,
            "margin": null,
            "max_height": null,
            "max_width": null,
            "min_height": null,
            "min_width": null,
            "object_fit": null,
            "object_position": null,
            "order": null,
            "overflow": null,
            "overflow_x": null,
            "overflow_y": null,
            "padding": null,
            "right": null,
            "top": null,
            "visibility": null,
            "width": null
          }
        },
        "8a0109ae776e4e37bb3fa4e69582b844": {
          "model_module": "@jupyter-widgets/controls",
          "model_name": "DescriptionStyleModel",
          "model_module_version": "1.5.0",
          "state": {
            "_model_module": "@jupyter-widgets/controls",
            "_model_module_version": "1.5.0",
            "_model_name": "DescriptionStyleModel",
            "_view_count": null,
            "_view_module": "@jupyter-widgets/base",
            "_view_module_version": "1.2.0",
            "_view_name": "StyleView",
            "description_width": ""
          }
        },
        "0274f15f8cda44eebadbc546b9bc18f0": {
          "model_module": "@jupyter-widgets/base",
          "model_name": "LayoutModel",
          "model_module_version": "1.2.0",
          "state": {
            "_model_module": "@jupyter-widgets/base",
            "_model_module_version": "1.2.0",
            "_model_name": "LayoutModel",
            "_view_count": null,
            "_view_module": "@jupyter-widgets/base",
            "_view_module_version": "1.2.0",
            "_view_name": "LayoutView",
            "align_content": null,
            "align_items": null,
            "align_self": null,
            "border": null,
            "bottom": null,
            "display": null,
            "flex": null,
            "flex_flow": null,
            "grid_area": null,
            "grid_auto_columns": null,
            "grid_auto_flow": null,
            "grid_auto_rows": null,
            "grid_column": null,
            "grid_gap": null,
            "grid_row": null,
            "grid_template_areas": null,
            "grid_template_columns": null,
            "grid_template_rows": null,
            "height": null,
            "justify_content": null,
            "justify_items": null,
            "left": null,
            "margin": null,
            "max_height": null,
            "max_width": null,
            "min_height": null,
            "min_width": null,
            "object_fit": null,
            "object_position": null,
            "order": null,
            "overflow": null,
            "overflow_x": null,
            "overflow_y": null,
            "padding": null,
            "right": null,
            "top": null,
            "visibility": null,
            "width": null
          }
        },
        "a29d37a7d9c84a33813661445f54d93c": {
          "model_module": "@jupyter-widgets/controls",
          "model_name": "DescriptionStyleModel",
          "model_module_version": "1.5.0",
          "state": {
            "_model_module": "@jupyter-widgets/controls",
            "_model_module_version": "1.5.0",
            "_model_name": "DescriptionStyleModel",
            "_view_count": null,
            "_view_module": "@jupyter-widgets/base",
            "_view_module_version": "1.2.0",
            "_view_name": "StyleView",
            "description_width": ""
          }
        },
        "51bd67551df247aba378df84388b09e5": {
          "model_module": "@jupyter-widgets/base",
          "model_name": "LayoutModel",
          "model_module_version": "1.2.0",
          "state": {
            "_model_module": "@jupyter-widgets/base",
            "_model_module_version": "1.2.0",
            "_model_name": "LayoutModel",
            "_view_count": null,
            "_view_module": "@jupyter-widgets/base",
            "_view_module_version": "1.2.0",
            "_view_name": "LayoutView",
            "align_content": null,
            "align_items": null,
            "align_self": null,
            "border": null,
            "bottom": null,
            "display": null,
            "flex": null,
            "flex_flow": null,
            "grid_area": null,
            "grid_auto_columns": null,
            "grid_auto_flow": null,
            "grid_auto_rows": null,
            "grid_column": null,
            "grid_gap": null,
            "grid_row": null,
            "grid_template_areas": null,
            "grid_template_columns": null,
            "grid_template_rows": null,
            "height": null,
            "justify_content": null,
            "justify_items": null,
            "left": null,
            "margin": null,
            "max_height": null,
            "max_width": null,
            "min_height": null,
            "min_width": null,
            "object_fit": null,
            "object_position": null,
            "order": null,
            "overflow": null,
            "overflow_x": null,
            "overflow_y": null,
            "padding": null,
            "right": null,
            "top": null,
            "visibility": null,
            "width": null
          }
        },
        "774e08ba73214c22b5a7e52cd7e680a5": {
          "model_module": "@jupyter-widgets/controls",
          "model_name": "ButtonStyleModel",
          "model_module_version": "1.5.0",
          "state": {
            "_model_module": "@jupyter-widgets/controls",
            "_model_module_version": "1.5.0",
            "_model_name": "ButtonStyleModel",
            "_view_count": null,
            "_view_module": "@jupyter-widgets/base",
            "_view_module_version": "1.2.0",
            "_view_name": "StyleView",
            "button_color": null,
            "font_weight": ""
          }
        },
        "88b2aa9ce5ca4873897ecafc140a2a1f": {
          "model_module": "@jupyter-widgets/base",
          "model_name": "LayoutModel",
          "model_module_version": "1.2.0",
          "state": {
            "_model_module": "@jupyter-widgets/base",
            "_model_module_version": "1.2.0",
            "_model_name": "LayoutModel",
            "_view_count": null,
            "_view_module": "@jupyter-widgets/base",
            "_view_module_version": "1.2.0",
            "_view_name": "LayoutView",
            "align_content": null,
            "align_items": null,
            "align_self": null,
            "border": null,
            "bottom": null,
            "display": null,
            "flex": null,
            "flex_flow": null,
            "grid_area": null,
            "grid_auto_columns": null,
            "grid_auto_flow": null,
            "grid_auto_rows": null,
            "grid_column": null,
            "grid_gap": null,
            "grid_row": null,
            "grid_template_areas": null,
            "grid_template_columns": null,
            "grid_template_rows": null,
            "height": null,
            "justify_content": null,
            "justify_items": null,
            "left": null,
            "margin": null,
            "max_height": null,
            "max_width": null,
            "min_height": null,
            "min_width": null,
            "object_fit": null,
            "object_position": null,
            "order": null,
            "overflow": null,
            "overflow_x": null,
            "overflow_y": null,
            "padding": null,
            "right": null,
            "top": null,
            "visibility": null,
            "width": null
          }
        },
        "6b999a25495245bfa4ad65548f5c4f6f": {
          "model_module": "@jupyter-widgets/controls",
          "model_name": "DescriptionStyleModel",
          "model_module_version": "1.5.0",
          "state": {
            "_model_module": "@jupyter-widgets/controls",
            "_model_module_version": "1.5.0",
            "_model_name": "DescriptionStyleModel",
            "_view_count": null,
            "_view_module": "@jupyter-widgets/base",
            "_view_module_version": "1.2.0",
            "_view_name": "StyleView",
            "description_width": ""
          }
        }
      }
    }
  },
  "cells": [
    {
      "cell_type": "markdown",
      "metadata": {
        "id": "view-in-github",
        "colab_type": "text"
      },
      "source": [
        "<a href=\"https://colab.research.google.com/github/aashay96/Deep-Learning-paper-implementations/blob/master/deep_rl_lunar_lander.ipynb\" target=\"_parent\"><img src=\"https://colab.research.google.com/assets/colab-badge.svg\" alt=\"Open In Colab\"/></a>"
      ]
    },
    {
      "cell_type": "code",
      "execution_count": 1,
      "metadata": {
        "colab": {
          "base_uri": "https://localhost:8080/"
        },
        "id": "EKYQjdz8nw8N",
        "outputId": "1d6fbe75-44f6-4bfd-9681-9b6325b2bd3a"
      },
      "outputs": [
        {
          "output_type": "stream",
          "name": "stdout",
          "text": [
            "\r0% [Working]\r            \rGet:1 http://security.ubuntu.com/ubuntu bionic-security InRelease [88.7 kB]\n",
            "Get:2 https://cloud.r-project.org/bin/linux/ubuntu bionic-cran40/ InRelease [3,626 B]\n",
            "Hit:3 http://archive.ubuntu.com/ubuntu bionic InRelease\n",
            "Ign:4 https://developer.download.nvidia.com/compute/machine-learning/repos/ubuntu1804/x86_64  InRelease\n",
            "Get:5 https://developer.download.nvidia.com/compute/cuda/repos/ubuntu1804/x86_64  InRelease [1,581 B]\n",
            "Hit:6 https://developer.download.nvidia.com/compute/machine-learning/repos/ubuntu1804/x86_64  Release\n",
            "Hit:7 http://ppa.launchpad.net/c2d4u.team/c2d4u4.0+/ubuntu bionic InRelease\n",
            "Get:8 http://archive.ubuntu.com/ubuntu bionic-updates InRelease [88.7 kB]\n",
            "Hit:9 http://ppa.launchpad.net/cran/libgit2/ubuntu bionic InRelease\n",
            "Get:10 http://archive.ubuntu.com/ubuntu bionic-backports InRelease [83.3 kB]\n",
            "Hit:11 http://ppa.launchpad.net/deadsnakes/ppa/ubuntu bionic InRelease\n",
            "Get:12 http://security.ubuntu.com/ubuntu bionic-security/universe amd64 Packages [1,563 kB]\n",
            "Get:13 http://ppa.launchpad.net/graphics-drivers/ppa/ubuntu bionic InRelease [21.3 kB]\n",
            "Get:14 http://security.ubuntu.com/ubuntu bionic-security/restricted amd64 Packages [1,262 kB]\n",
            "Get:15 http://security.ubuntu.com/ubuntu bionic-security/main amd64 Packages [3,071 kB]\n",
            "Get:16 https://developer.download.nvidia.com/compute/cuda/repos/ubuntu1804/x86_64  Packages [1,038 kB]\n",
            "Get:18 http://archive.ubuntu.com/ubuntu bionic-updates/main amd64 Packages [3,497 kB]\n",
            "Get:19 http://archive.ubuntu.com/ubuntu bionic-updates/universe amd64 Packages [2,338 kB]\n",
            "Get:20 http://ppa.launchpad.net/graphics-drivers/ppa/ubuntu bionic/main amd64 Packages [38.5 kB]\n",
            "Get:21 http://archive.ubuntu.com/ubuntu bionic-updates/restricted amd64 Packages [1,303 kB]\n",
            "Fetched 14.4 MB in 4s (3,892 kB/s)\n",
            "Reading package lists... Done\n",
            "Reading package lists... Done\n",
            "Building dependency tree       \n",
            "Reading state information... Done\n",
            "The following package was automatically installed and is no longer required:\n",
            "  libnvidia-common-460\n",
            "Use 'apt autoremove' to remove it.\n",
            "The following additional packages will be installed:\n",
            "  freeglut3\n",
            "Suggested packages:\n",
            "  libgle3\n",
            "The following NEW packages will be installed:\n",
            "  freeglut3 python-opengl\n",
            "0 upgraded, 2 newly installed, 0 to remove and 15 not upgraded.\n",
            "Need to get 570 kB of archives.\n",
            "After this operation, 5,733 kB of additional disk space will be used.\n",
            "Get:1 http://archive.ubuntu.com/ubuntu bionic/universe amd64 freeglut3 amd64 2.8.1-3 [73.6 kB]\n",
            "Get:2 http://archive.ubuntu.com/ubuntu bionic/universe amd64 python-opengl all 3.1.0+dfsg-1 [496 kB]\n",
            "Fetched 570 kB in 1s (718 kB/s)\n",
            "Selecting previously unselected package freeglut3:amd64.\n",
            "(Reading database ... 123991 files and directories currently installed.)\n",
            "Preparing to unpack .../freeglut3_2.8.1-3_amd64.deb ...\n",
            "Unpacking freeglut3:amd64 (2.8.1-3) ...\n",
            "Selecting previously unselected package python-opengl.\n",
            "Preparing to unpack .../python-opengl_3.1.0+dfsg-1_all.deb ...\n",
            "Unpacking python-opengl (3.1.0+dfsg-1) ...\n",
            "Setting up freeglut3:amd64 (2.8.1-3) ...\n",
            "Setting up python-opengl (3.1.0+dfsg-1) ...\n",
            "Processing triggers for libc-bin (2.27-3ubuntu1.6) ...\n",
            "Reading package lists... Done\n",
            "Building dependency tree       \n",
            "Reading state information... Done\n",
            "ffmpeg is already the newest version (7:3.4.11-0ubuntu0.1).\n",
            "The following package was automatically installed and is no longer required:\n",
            "  libnvidia-common-460\n",
            "Use 'apt autoremove' to remove it.\n",
            "0 upgraded, 0 newly installed, 0 to remove and 15 not upgraded.\n",
            "Reading package lists... Done\n",
            "Building dependency tree       \n",
            "Reading state information... Done\n",
            "The following package was automatically installed and is no longer required:\n",
            "  libnvidia-common-460\n",
            "Use 'apt autoremove' to remove it.\n",
            "The following additional packages will be installed:\n",
            "  xserver-common\n",
            "Recommended packages:\n",
            "  xfonts-base\n",
            "The following NEW packages will be installed:\n",
            "  xvfb\n",
            "The following packages will be upgraded:\n",
            "  xserver-common\n",
            "1 upgraded, 1 newly installed, 0 to remove and 14 not upgraded.\n",
            "Need to get 812 kB of archives.\n",
            "After this operation, 2,271 kB of additional disk space will be used.\n",
            "Get:1 http://archive.ubuntu.com/ubuntu bionic-updates/main amd64 xserver-common all 2:1.19.6-1ubuntu4.12 [27.0 kB]\n",
            "Get:2 http://archive.ubuntu.com/ubuntu bionic-updates/universe amd64 xvfb amd64 2:1.19.6-1ubuntu4.12 [785 kB]\n",
            "Fetched 812 kB in 1s (961 kB/s)\n",
            "(Reading database ... 126351 files and directories currently installed.)\n",
            "Preparing to unpack .../xserver-common_2%3a1.19.6-1ubuntu4.12_all.deb ...\n",
            "Unpacking xserver-common (2:1.19.6-1ubuntu4.12) over (2:1.19.6-1ubuntu4.11) ...\n",
            "Selecting previously unselected package xvfb.\n",
            "Preparing to unpack .../xvfb_2%3a1.19.6-1ubuntu4.12_amd64.deb ...\n",
            "Unpacking xvfb (2:1.19.6-1ubuntu4.12) ...\n",
            "Setting up xserver-common (2:1.19.6-1ubuntu4.12) ...\n",
            "Setting up xvfb (2:1.19.6-1ubuntu4.12) ...\n",
            "Processing triggers for man-db (2.8.3-2ubuntu0.1) ...\n",
            "Looking in indexes: https://pypi.org/simple, https://us-python.pkg.dev/colab-wheels/public/simple/\n",
            "Collecting pyvirtualdisplay\n",
            "  Downloading PyVirtualDisplay-3.0-py3-none-any.whl (15 kB)\n",
            "Installing collected packages: pyvirtualdisplay\n",
            "Successfully installed pyvirtualdisplay-3.0\n"
          ]
        },
        {
          "output_type": "execute_result",
          "data": {
            "text/plain": [
              "<pyvirtualdisplay.display.Display at 0x7f7615660090>"
            ]
          },
          "metadata": {},
          "execution_count": 1
        }
      ],
      "source": [
        "!sudo apt-get update\n",
        "!apt install python-opengl\n",
        "!apt install ffmpeg\n",
        "!apt install xvfb\n",
        "!pip3 install pyvirtualdisplay\n",
        "\n",
        "# Virtual display\n",
        "from pyvirtualdisplay import Display\n",
        "\n",
        "virtual_display = Display(visible=0, size=(1400, 900))\n",
        "virtual_display.start()"
      ]
    },
    {
      "cell_type": "code",
      "source": [
        "!pip install importlib-metadata==4.12.0 # To overcome an issue with importlib-metadata https://stackoverflow.com/questions/73929564/entrypoints-object-has-no-attribute-get-digital-ocean\n",
        "!pip install gym[box2d]\n",
        "!pip install stable-baselines3[extra]\n",
        "!pip install huggingface_sb3\n",
        "!pip install pyglet==1.5.1\n",
        "!pip install ale-py==0.7.4 # To overcome an issue with gym (https://github.com/DLR-RM/stable-baselines3/issues/875)\n",
        "\n",
        "!pip install pickle5"
      ],
      "metadata": {
        "colab": {
          "base_uri": "https://localhost:8080/"
        },
        "id": "GFhWHFJOptdf",
        "outputId": "c05c3f36-35e9-4289-8e03-d0560eec41c7"
      },
      "execution_count": 2,
      "outputs": [
        {
          "output_type": "stream",
          "name": "stdout",
          "text": [
            "Looking in indexes: https://pypi.org/simple, https://us-python.pkg.dev/colab-wheels/public/simple/\n",
            "Collecting importlib-metadata==4.12.0\n",
            "  Downloading importlib_metadata-4.12.0-py3-none-any.whl (21 kB)\n",
            "Requirement already satisfied: typing-extensions>=3.6.4 in /usr/local/lib/python3.7/dist-packages (from importlib-metadata==4.12.0) (4.1.1)\n",
            "Requirement already satisfied: zipp>=0.5 in /usr/local/lib/python3.7/dist-packages (from importlib-metadata==4.12.0) (3.10.0)\n",
            "Installing collected packages: importlib-metadata\n",
            "  Attempting uninstall: importlib-metadata\n",
            "    Found existing installation: importlib-metadata 4.13.0\n",
            "    Uninstalling importlib-metadata-4.13.0:\n",
            "      Successfully uninstalled importlib-metadata-4.13.0\n",
            "Successfully installed importlib-metadata-4.12.0\n",
            "Looking in indexes: https://pypi.org/simple, https://us-python.pkg.dev/colab-wheels/public/simple/\n",
            "Requirement already satisfied: gym[box2d] in /usr/local/lib/python3.7/dist-packages (0.25.2)\n",
            "Requirement already satisfied: gym-notices>=0.0.4 in /usr/local/lib/python3.7/dist-packages (from gym[box2d]) (0.0.8)\n",
            "Requirement already satisfied: numpy>=1.18.0 in /usr/local/lib/python3.7/dist-packages (from gym[box2d]) (1.21.6)\n",
            "Requirement already satisfied: importlib-metadata>=4.8.0 in /usr/local/lib/python3.7/dist-packages (from gym[box2d]) (4.12.0)\n",
            "Requirement already satisfied: cloudpickle>=1.2.0 in /usr/local/lib/python3.7/dist-packages (from gym[box2d]) (1.5.0)\n",
            "Collecting box2d-py==2.3.5\n",
            "  Downloading box2d_py-2.3.5-cp37-cp37m-manylinux1_x86_64.whl (2.1 MB)\n",
            "\u001b[K     |████████████████████████████████| 2.1 MB 5.2 MB/s \n",
            "\u001b[?25hCollecting swig==4.*\n",
            "  Downloading swig-4.1.0-py2.py3-none-manylinux_2_5_x86_64.manylinux1_x86_64.whl (1.8 MB)\n",
            "\u001b[K     |████████████████████████████████| 1.8 MB 46.2 MB/s \n",
            "\u001b[?25hCollecting pygame==2.1.0\n",
            "  Downloading pygame-2.1.0-cp37-cp37m-manylinux_2_17_x86_64.manylinux2014_x86_64.whl (18.3 MB)\n",
            "\u001b[K     |████████████████████████████████| 18.3 MB 99 kB/s \n",
            "\u001b[?25hRequirement already satisfied: zipp>=0.5 in /usr/local/lib/python3.7/dist-packages (from importlib-metadata>=4.8.0->gym[box2d]) (3.10.0)\n",
            "Requirement already satisfied: typing-extensions>=3.6.4 in /usr/local/lib/python3.7/dist-packages (from importlib-metadata>=4.8.0->gym[box2d]) (4.1.1)\n",
            "Installing collected packages: swig, pygame, box2d-py\n",
            "Successfully installed box2d-py-2.3.5 pygame-2.1.0 swig-4.1.0\n",
            "Looking in indexes: https://pypi.org/simple, https://us-python.pkg.dev/colab-wheels/public/simple/\n",
            "Collecting stable-baselines3[extra]\n",
            "  Downloading stable_baselines3-1.6.2-py3-none-any.whl (170 kB)\n",
            "\u001b[K     |████████████████████████████████| 170 kB 4.7 MB/s \n",
            "\u001b[?25hRequirement already satisfied: numpy in /usr/local/lib/python3.7/dist-packages (from stable-baselines3[extra]) (1.21.6)\n",
            "Collecting importlib-metadata~=4.13\n",
            "  Downloading importlib_metadata-4.13.0-py3-none-any.whl (23 kB)\n",
            "Requirement already satisfied: pandas in /usr/local/lib/python3.7/dist-packages (from stable-baselines3[extra]) (1.3.5)\n",
            "Requirement already satisfied: matplotlib in /usr/local/lib/python3.7/dist-packages (from stable-baselines3[extra]) (3.2.2)\n",
            "Collecting gym==0.21\n",
            "  Downloading gym-0.21.0.tar.gz (1.5 MB)\n",
            "\u001b[K     |████████████████████████████████| 1.5 MB 53.9 MB/s \n",
            "\u001b[?25hRequirement already satisfied: torch>=1.11 in /usr/local/lib/python3.7/dist-packages (from stable-baselines3[extra]) (1.12.1+cu113)\n",
            "Requirement already satisfied: cloudpickle in /usr/local/lib/python3.7/dist-packages (from stable-baselines3[extra]) (1.5.0)\n",
            "Requirement already satisfied: tensorboard>=2.9.1 in /usr/local/lib/python3.7/dist-packages (from stable-baselines3[extra]) (2.9.1)\n",
            "Requirement already satisfied: pillow in /usr/local/lib/python3.7/dist-packages (from stable-baselines3[extra]) (7.1.2)\n",
            "Collecting rich\n",
            "  Downloading rich-12.6.0-py3-none-any.whl (237 kB)\n",
            "\u001b[K     |████████████████████████████████| 237 kB 37.2 MB/s \n",
            "\u001b[?25hCollecting autorom[accept-rom-license]~=0.4.2\n",
            "  Downloading AutoROM-0.4.2-py3-none-any.whl (16 kB)\n",
            "Requirement already satisfied: tqdm in /usr/local/lib/python3.7/dist-packages (from stable-baselines3[extra]) (4.64.1)\n",
            "Requirement already satisfied: psutil in /usr/local/lib/python3.7/dist-packages (from stable-baselines3[extra]) (5.4.8)\n",
            "Requirement already satisfied: opencv-python in /usr/local/lib/python3.7/dist-packages (from stable-baselines3[extra]) (4.6.0.66)\n",
            "Collecting ale-py==0.7.4\n",
            "  Downloading ale_py-0.7.4-cp37-cp37m-manylinux_2_17_x86_64.manylinux2014_x86_64.whl (1.6 MB)\n",
            "\u001b[K     |████████████████████████████████| 1.6 MB 26.8 MB/s \n",
            "\u001b[?25hRequirement already satisfied: importlib-resources in /usr/local/lib/python3.7/dist-packages (from ale-py==0.7.4->stable-baselines3[extra]) (5.10.0)\n",
            "Requirement already satisfied: requests in /usr/local/lib/python3.7/dist-packages (from autorom[accept-rom-license]~=0.4.2->stable-baselines3[extra]) (2.23.0)\n",
            "Requirement already satisfied: click in /usr/local/lib/python3.7/dist-packages (from autorom[accept-rom-license]~=0.4.2->stable-baselines3[extra]) (7.1.2)\n",
            "Collecting AutoROM.accept-rom-license\n",
            "  Downloading AutoROM.accept-rom-license-0.4.2.tar.gz (9.8 kB)\n",
            "  Installing build dependencies ... \u001b[?25l\u001b[?25hdone\n",
            "  Getting requirements to build wheel ... \u001b[?25l\u001b[?25hdone\n",
            "    Preparing wheel metadata ... \u001b[?25l\u001b[?25hdone\n",
            "Requirement already satisfied: zipp>=0.5 in /usr/local/lib/python3.7/dist-packages (from importlib-metadata~=4.13->stable-baselines3[extra]) (3.10.0)\n",
            "Requirement already satisfied: typing-extensions>=3.6.4 in /usr/local/lib/python3.7/dist-packages (from importlib-metadata~=4.13->stable-baselines3[extra]) (4.1.1)\n",
            "Requirement already satisfied: google-auth<3,>=1.6.3 in /usr/local/lib/python3.7/dist-packages (from tensorboard>=2.9.1->stable-baselines3[extra]) (2.14.1)\n",
            "Requirement already satisfied: grpcio>=1.24.3 in /usr/local/lib/python3.7/dist-packages (from tensorboard>=2.9.1->stable-baselines3[extra]) (1.50.0)\n",
            "Requirement already satisfied: tensorboard-data-server<0.7.0,>=0.6.0 in /usr/local/lib/python3.7/dist-packages (from tensorboard>=2.9.1->stable-baselines3[extra]) (0.6.1)\n",
            "Requirement already satisfied: werkzeug>=1.0.1 in /usr/local/lib/python3.7/dist-packages (from tensorboard>=2.9.1->stable-baselines3[extra]) (1.0.1)\n",
            "Requirement already satisfied: absl-py>=0.4 in /usr/local/lib/python3.7/dist-packages (from tensorboard>=2.9.1->stable-baselines3[extra]) (1.3.0)\n",
            "Requirement already satisfied: tensorboard-plugin-wit>=1.6.0 in /usr/local/lib/python3.7/dist-packages (from tensorboard>=2.9.1->stable-baselines3[extra]) (1.8.1)\n",
            "Requirement already satisfied: markdown>=2.6.8 in /usr/local/lib/python3.7/dist-packages (from tensorboard>=2.9.1->stable-baselines3[extra]) (3.4.1)\n",
            "Requirement already satisfied: setuptools>=41.0.0 in /usr/local/lib/python3.7/dist-packages (from tensorboard>=2.9.1->stable-baselines3[extra]) (57.4.0)\n",
            "Requirement already satisfied: protobuf<3.20,>=3.9.2 in /usr/local/lib/python3.7/dist-packages (from tensorboard>=2.9.1->stable-baselines3[extra]) (3.19.6)\n",
            "Requirement already satisfied: google-auth-oauthlib<0.5,>=0.4.1 in /usr/local/lib/python3.7/dist-packages (from tensorboard>=2.9.1->stable-baselines3[extra]) (0.4.6)\n",
            "Requirement already satisfied: wheel>=0.26 in /usr/local/lib/python3.7/dist-packages (from tensorboard>=2.9.1->stable-baselines3[extra]) (0.38.4)\n",
            "Requirement already satisfied: rsa<5,>=3.1.4 in /usr/local/lib/python3.7/dist-packages (from google-auth<3,>=1.6.3->tensorboard>=2.9.1->stable-baselines3[extra]) (4.9)\n",
            "Requirement already satisfied: six>=1.9.0 in /usr/local/lib/python3.7/dist-packages (from google-auth<3,>=1.6.3->tensorboard>=2.9.1->stable-baselines3[extra]) (1.15.0)\n",
            "Requirement already satisfied: cachetools<6.0,>=2.0.0 in /usr/local/lib/python3.7/dist-packages (from google-auth<3,>=1.6.3->tensorboard>=2.9.1->stable-baselines3[extra]) (5.2.0)\n",
            "Requirement already satisfied: pyasn1-modules>=0.2.1 in /usr/local/lib/python3.7/dist-packages (from google-auth<3,>=1.6.3->tensorboard>=2.9.1->stable-baselines3[extra]) (0.2.8)\n",
            "Requirement already satisfied: requests-oauthlib>=0.7.0 in /usr/local/lib/python3.7/dist-packages (from google-auth-oauthlib<0.5,>=0.4.1->tensorboard>=2.9.1->stable-baselines3[extra]) (1.3.1)\n",
            "Requirement already satisfied: pyasn1<0.5.0,>=0.4.6 in /usr/local/lib/python3.7/dist-packages (from pyasn1-modules>=0.2.1->google-auth<3,>=1.6.3->tensorboard>=2.9.1->stable-baselines3[extra]) (0.4.8)\n",
            "Requirement already satisfied: chardet<4,>=3.0.2 in /usr/local/lib/python3.7/dist-packages (from requests->autorom[accept-rom-license]~=0.4.2->stable-baselines3[extra]) (3.0.4)\n",
            "Requirement already satisfied: idna<3,>=2.5 in /usr/local/lib/python3.7/dist-packages (from requests->autorom[accept-rom-license]~=0.4.2->stable-baselines3[extra]) (2.10)\n",
            "Requirement already satisfied: urllib3!=1.25.0,!=1.25.1,<1.26,>=1.21.1 in /usr/local/lib/python3.7/dist-packages (from requests->autorom[accept-rom-license]~=0.4.2->stable-baselines3[extra]) (1.24.3)\n",
            "Requirement already satisfied: certifi>=2017.4.17 in /usr/local/lib/python3.7/dist-packages (from requests->autorom[accept-rom-license]~=0.4.2->stable-baselines3[extra]) (2022.9.24)\n",
            "Requirement already satisfied: oauthlib>=3.0.0 in /usr/local/lib/python3.7/dist-packages (from requests-oauthlib>=0.7.0->google-auth-oauthlib<0.5,>=0.4.1->tensorboard>=2.9.1->stable-baselines3[extra]) (3.2.2)\n",
            "Requirement already satisfied: pyparsing!=2.0.4,!=2.1.2,!=2.1.6,>=2.0.1 in /usr/local/lib/python3.7/dist-packages (from matplotlib->stable-baselines3[extra]) (3.0.9)\n",
            "Requirement already satisfied: kiwisolver>=1.0.1 in /usr/local/lib/python3.7/dist-packages (from matplotlib->stable-baselines3[extra]) (1.4.4)\n",
            "Requirement already satisfied: cycler>=0.10 in /usr/local/lib/python3.7/dist-packages (from matplotlib->stable-baselines3[extra]) (0.11.0)\n",
            "Requirement already satisfied: python-dateutil>=2.1 in /usr/local/lib/python3.7/dist-packages (from matplotlib->stable-baselines3[extra]) (2.8.2)\n",
            "Requirement already satisfied: pytz>=2017.3 in /usr/local/lib/python3.7/dist-packages (from pandas->stable-baselines3[extra]) (2022.6)\n",
            "Requirement already satisfied: pygments<3.0.0,>=2.6.0 in /usr/local/lib/python3.7/dist-packages (from rich->stable-baselines3[extra]) (2.6.1)\n",
            "Collecting commonmark<0.10.0,>=0.9.0\n",
            "  Downloading commonmark-0.9.1-py2.py3-none-any.whl (51 kB)\n",
            "\u001b[K     |████████████████████████████████| 51 kB 6.5 MB/s \n",
            "\u001b[?25hBuilding wheels for collected packages: gym, AutoROM.accept-rom-license\n",
            "  Building wheel for gym (setup.py) ... \u001b[?25l\u001b[?25hdone\n",
            "  Created wheel for gym: filename=gym-0.21.0-py3-none-any.whl size=1616822 sha256=64ef51ebd713c33b629127c262ec7ffed82899a1c269454d6122c3b8cf85facf\n",
            "  Stored in directory: /root/.cache/pip/wheels/76/ee/9c/36bfe3e079df99acf5ae57f4e3464ff2771b34447d6d2f2148\n",
            "  Building wheel for AutoROM.accept-rom-license (PEP 517) ... \u001b[?25l\u001b[?25hdone\n",
            "  Created wheel for AutoROM.accept-rom-license: filename=AutoROM.accept_rom_license-0.4.2-py3-none-any.whl size=441028 sha256=ce0990dc55f3cc1e0c3844834d34f4c5a19da55fb01bc51bbc90edecd36d1d16\n",
            "  Stored in directory: /root/.cache/pip/wheels/87/67/2e/6147e7912fe37f5408b80d07527dab807c1d25f5c403a9538a\n",
            "Successfully built gym AutoROM.accept-rom-license\n",
            "Installing collected packages: importlib-metadata, gym, commonmark, AutoROM.accept-rom-license, autorom, stable-baselines3, rich, ale-py\n",
            "  Attempting uninstall: importlib-metadata\n",
            "    Found existing installation: importlib-metadata 4.12.0\n",
            "    Uninstalling importlib-metadata-4.12.0:\n",
            "      Successfully uninstalled importlib-metadata-4.12.0\n",
            "  Attempting uninstall: gym\n",
            "    Found existing installation: gym 0.25.2\n",
            "    Uninstalling gym-0.25.2:\n",
            "      Successfully uninstalled gym-0.25.2\n",
            "Successfully installed AutoROM.accept-rom-license-0.4.2 ale-py-0.7.4 autorom-0.4.2 commonmark-0.9.1 gym-0.21.0 importlib-metadata-4.13.0 rich-12.6.0 stable-baselines3-1.6.2\n",
            "Looking in indexes: https://pypi.org/simple, https://us-python.pkg.dev/colab-wheels/public/simple/\n",
            "Collecting huggingface_sb3\n",
            "  Downloading huggingface_sb3-2.2.4-py3-none-any.whl (9.4 kB)\n",
            "Requirement already satisfied: pyyaml~=6.0 in /usr/local/lib/python3.7/dist-packages (from huggingface_sb3) (6.0)\n",
            "Collecting cloudpickle>=1.6\n",
            "  Downloading cloudpickle-2.2.0-py3-none-any.whl (25 kB)\n",
            "Collecting huggingface-hub~=0.8\n",
            "  Downloading huggingface_hub-0.11.1-py3-none-any.whl (182 kB)\n",
            "\u001b[K     |████████████████████████████████| 182 kB 8.2 MB/s \n",
            "\u001b[?25hRequirement already satisfied: wasabi in /usr/local/lib/python3.7/dist-packages (from huggingface_sb3) (0.10.1)\n",
            "Requirement already satisfied: numpy in /usr/local/lib/python3.7/dist-packages (from huggingface_sb3) (1.21.6)\n",
            "Requirement already satisfied: packaging>=20.9 in /usr/local/lib/python3.7/dist-packages (from huggingface-hub~=0.8->huggingface_sb3) (21.3)\n",
            "Requirement already satisfied: importlib-metadata in /usr/local/lib/python3.7/dist-packages (from huggingface-hub~=0.8->huggingface_sb3) (4.13.0)\n",
            "Requirement already satisfied: tqdm in /usr/local/lib/python3.7/dist-packages (from huggingface-hub~=0.8->huggingface_sb3) (4.64.1)\n",
            "Requirement already satisfied: filelock in /usr/local/lib/python3.7/dist-packages (from huggingface-hub~=0.8->huggingface_sb3) (3.8.0)\n",
            "Requirement already satisfied: typing-extensions>=3.7.4.3 in /usr/local/lib/python3.7/dist-packages (from huggingface-hub~=0.8->huggingface_sb3) (4.1.1)\n",
            "Requirement already satisfied: requests in /usr/local/lib/python3.7/dist-packages (from huggingface-hub~=0.8->huggingface_sb3) (2.23.0)\n",
            "Requirement already satisfied: pyparsing!=3.0.5,>=2.0.2 in /usr/local/lib/python3.7/dist-packages (from packaging>=20.9->huggingface-hub~=0.8->huggingface_sb3) (3.0.9)\n",
            "Requirement already satisfied: zipp>=0.5 in /usr/local/lib/python3.7/dist-packages (from importlib-metadata->huggingface-hub~=0.8->huggingface_sb3) (3.10.0)\n",
            "Requirement already satisfied: urllib3!=1.25.0,!=1.25.1,<1.26,>=1.21.1 in /usr/local/lib/python3.7/dist-packages (from requests->huggingface-hub~=0.8->huggingface_sb3) (1.24.3)\n",
            "Requirement already satisfied: certifi>=2017.4.17 in /usr/local/lib/python3.7/dist-packages (from requests->huggingface-hub~=0.8->huggingface_sb3) (2022.9.24)\n",
            "Requirement already satisfied: chardet<4,>=3.0.2 in /usr/local/lib/python3.7/dist-packages (from requests->huggingface-hub~=0.8->huggingface_sb3) (3.0.4)\n",
            "Requirement already satisfied: idna<3,>=2.5 in /usr/local/lib/python3.7/dist-packages (from requests->huggingface-hub~=0.8->huggingface_sb3) (2.10)\n",
            "Installing collected packages: huggingface-hub, cloudpickle, huggingface-sb3\n",
            "  Attempting uninstall: cloudpickle\n",
            "    Found existing installation: cloudpickle 1.5.0\n",
            "    Uninstalling cloudpickle-1.5.0:\n",
            "      Successfully uninstalled cloudpickle-1.5.0\n",
            "Successfully installed cloudpickle-2.2.0 huggingface-hub-0.11.1 huggingface-sb3-2.2.4\n",
            "Looking in indexes: https://pypi.org/simple, https://us-python.pkg.dev/colab-wheels/public/simple/\n",
            "Collecting pyglet==1.5.1\n",
            "  Downloading pyglet-1.5.1-py2.py3-none-any.whl (1.0 MB)\n",
            "\u001b[K     |████████████████████████████████| 1.0 MB 5.2 MB/s \n",
            "\u001b[?25hInstalling collected packages: pyglet\n",
            "Successfully installed pyglet-1.5.1\n",
            "Looking in indexes: https://pypi.org/simple, https://us-python.pkg.dev/colab-wheels/public/simple/\n",
            "Requirement already satisfied: ale-py==0.7.4 in /usr/local/lib/python3.7/dist-packages (0.7.4)\n",
            "Requirement already satisfied: numpy in /usr/local/lib/python3.7/dist-packages (from ale-py==0.7.4) (1.21.6)\n",
            "Requirement already satisfied: importlib-resources in /usr/local/lib/python3.7/dist-packages (from ale-py==0.7.4) (5.10.0)\n",
            "Requirement already satisfied: importlib-metadata>=4.10.0 in /usr/local/lib/python3.7/dist-packages (from ale-py==0.7.4) (4.13.0)\n",
            "Requirement already satisfied: zipp>=0.5 in /usr/local/lib/python3.7/dist-packages (from importlib-metadata>=4.10.0->ale-py==0.7.4) (3.10.0)\n",
            "Requirement already satisfied: typing-extensions>=3.6.4 in /usr/local/lib/python3.7/dist-packages (from importlib-metadata>=4.10.0->ale-py==0.7.4) (4.1.1)\n",
            "Looking in indexes: https://pypi.org/simple, https://us-python.pkg.dev/colab-wheels/public/simple/\n",
            "Collecting pickle5\n",
            "  Downloading pickle5-0.0.12-cp37-cp37m-manylinux_2_5_x86_64.manylinux1_x86_64.whl (256 kB)\n",
            "\u001b[K     |████████████████████████████████| 256 kB 4.7 MB/s \n",
            "\u001b[?25hInstalling collected packages: pickle5\n",
            "Successfully installed pickle5-0.0.12\n"
          ]
        }
      ]
    },
    {
      "cell_type": "code",
      "source": [
        "import gym\n",
        "\n",
        "from huggingface_sb3 import load_from_hub, package_to_hub, push_to_hub\n",
        "from huggingface_hub import notebook_login # To log to our Hugging Face account to be able to upload models to the Hub.\n",
        "\n",
        "from stable_baselines3 import PPO\n",
        "from stable_baselines3.common.evaluation import evaluate_policy\n",
        "from stable_baselines3.common.env_util import make_vec_env"
      ],
      "metadata": {
        "id": "w8LdQKfHqJqm"
      },
      "execution_count": 3,
      "outputs": []
    },
    {
      "cell_type": "code",
      "source": [
        "import gym\n",
        "\n",
        "env= gym.make('LunarLander-v2')\n",
        "\n",
        "observation = env.reset()\n",
        "\n",
        "for _ in range(5):\n",
        "  action = env.action_space.sample()\n",
        "  print(\"Action taken:\", action)\n",
        "\n",
        "  # Do this action in the environment and get\n",
        "  # next_state, reward, done and info\n",
        "  observation, reward, done, info = env.step(action)\n",
        "  \n",
        "  # If the game is done (in our case we land, crashed or timeout)\n",
        "  if done:\n",
        "      # Reset the environment\n",
        "      print(\"Environment is reset\")\n",
        "      observation = env.reset()"
      ],
      "metadata": {
        "colab": {
          "base_uri": "https://localhost:8080/"
        },
        "id": "RdnPwz4NqpjD",
        "outputId": "56637518-d229-4f50-d108-6cfdf865b323"
      },
      "execution_count": 4,
      "outputs": [
        {
          "output_type": "stream",
          "name": "stdout",
          "text": [
            "Action taken: 3\n",
            "Action taken: 3\n",
            "Action taken: 3\n",
            "Action taken: 1\n",
            "Action taken: 2\n"
          ]
        }
      ]
    },
    {
      "cell_type": "code",
      "source": [
        "env = gym.make(\"LunarLander-v2\")\n",
        "env.reset()\n",
        "print(\"_____OBSERVATION SPACE_____ \\n\")\n",
        "print(\"Observation Space Shape\", env.observation_space.shape)\n",
        "print(\"Sample observation\", env.observation_space.sample())\n",
        "\n",
        "print(\"\\n _____ACTION SPACE_____ \\n\")\n",
        "print(\"Action Space Shape\", env.action_space.n)\n",
        "print(\"Action Space Sample\", env.action_space.sample())"
      ],
      "metadata": {
        "colab": {
          "base_uri": "https://localhost:8080/"
        },
        "id": "pNMIPXSRsHKi",
        "outputId": "86c697d6-e390-4fc8-9732-85fd50a2ccb4"
      },
      "execution_count": 6,
      "outputs": [
        {
          "output_type": "stream",
          "name": "stdout",
          "text": [
            "_____OBSERVATION SPACE_____ \n",
            "\n",
            "Observation Space Shape (8,)\n",
            "Sample observation [ 3.6682465  -0.35957056 -0.92104316  0.55876416 -0.35985604  0.82390535\n",
            "  0.37588313  0.2836938 ]\n",
            "\n",
            " _____ACTION SPACE_____ \n",
            "\n",
            "Action Space Shape 4\n",
            "Action Space Sample 1\n"
          ]
        }
      ]
    },
    {
      "cell_type": "code",
      "source": [
        "env = make_vec_env('LunarLander-v2', n_envs=16)"
      ],
      "metadata": {
        "id": "Yp4ro-GtsWfL"
      },
      "execution_count": 7,
      "outputs": []
    },
    {
      "cell_type": "code",
      "source": [
        "model = PPO(policy='MlpPolicy',env=env, n_steps = 1024,\n",
        "    batch_size = 64,\n",
        "    n_epochs = 4,\n",
        "    gamma = 0.999,\n",
        "    gae_lambda = 0.98,\n",
        "    ent_coef = 0.01,\n",
        "    verbose=1)\n",
        "\n",
        "model_name = \"deep-rl-1-lunarlanderv2\"\n",
        "\n",
        "model.learn(total_timesteps=50000)\n",
        "model.save(model_name)"
      ],
      "metadata": {
        "colab": {
          "base_uri": "https://localhost:8080/"
        },
        "id": "hWIuNtj9sX4-",
        "outputId": "efb1f2df-017b-48ab-fb85-f2838f29309c"
      },
      "execution_count": 9,
      "outputs": [
        {
          "output_type": "stream",
          "name": "stdout",
          "text": [
            "Using cpu device\n",
            "---------------------------------\n",
            "| rollout/           |          |\n",
            "|    ep_len_mean     | 93.8     |\n",
            "|    ep_rew_mean     | -196     |\n",
            "| time/              |          |\n",
            "|    fps             | 3347     |\n",
            "|    iterations      | 1        |\n",
            "|    time_elapsed    | 4        |\n",
            "|    total_timesteps | 16384    |\n",
            "---------------------------------\n",
            "------------------------------------------\n",
            "| rollout/                |              |\n",
            "|    ep_len_mean          | 93.2         |\n",
            "|    ep_rew_mean          | -143         |\n",
            "| time/                   |              |\n",
            "|    fps                  | 2384         |\n",
            "|    iterations           | 2            |\n",
            "|    time_elapsed         | 13           |\n",
            "|    total_timesteps      | 32768        |\n",
            "| train/                  |              |\n",
            "|    approx_kl            | 0.0068425382 |\n",
            "|    clip_fraction        | 0.0563       |\n",
            "|    clip_range           | 0.2          |\n",
            "|    entropy_loss         | -1.38        |\n",
            "|    explained_variance   | 0.000264     |\n",
            "|    learning_rate        | 0.0003       |\n",
            "|    loss                 | 2.17e+03     |\n",
            "|    n_updates            | 4            |\n",
            "|    policy_gradient_loss | -0.00673     |\n",
            "|    value_loss           | 5.11e+03     |\n",
            "------------------------------------------\n",
            "----------------------------------------\n",
            "| rollout/                |            |\n",
            "|    ep_len_mean          | 88.9       |\n",
            "|    ep_rew_mean          | -130       |\n",
            "| time/                   |            |\n",
            "|    fps                  | 2228       |\n",
            "|    iterations           | 3          |\n",
            "|    time_elapsed         | 22         |\n",
            "|    total_timesteps      | 49152      |\n",
            "| train/                  |            |\n",
            "|    approx_kl            | 0.00619904 |\n",
            "|    clip_fraction        | 0.0416     |\n",
            "|    clip_range           | 0.2        |\n",
            "|    entropy_loss         | -1.37      |\n",
            "|    explained_variance   | -0.00292   |\n",
            "|    learning_rate        | 0.0003     |\n",
            "|    loss                 | 787        |\n",
            "|    n_updates            | 8          |\n",
            "|    policy_gradient_loss | -0.0055    |\n",
            "|    value_loss           | 2.4e+03    |\n",
            "----------------------------------------\n",
            "-----------------------------------------\n",
            "| rollout/                |             |\n",
            "|    ep_len_mean          | 92.9        |\n",
            "|    ep_rew_mean          | -119        |\n",
            "| time/                   |             |\n",
            "|    fps                  | 2095        |\n",
            "|    iterations           | 4           |\n",
            "|    time_elapsed         | 31          |\n",
            "|    total_timesteps      | 65536       |\n",
            "| train/                  |             |\n",
            "|    approx_kl            | 0.006200157 |\n",
            "|    clip_fraction        | 0.0394      |\n",
            "|    clip_range           | 0.2         |\n",
            "|    entropy_loss         | -1.36       |\n",
            "|    explained_variance   | -0.00389    |\n",
            "|    learning_rate        | 0.0003      |\n",
            "|    loss                 | 784         |\n",
            "|    n_updates            | 12          |\n",
            "|    policy_gradient_loss | -0.00473    |\n",
            "|    value_loss           | 1.4e+03     |\n",
            "-----------------------------------------\n"
          ]
        }
      ]
    },
    {
      "cell_type": "code",
      "source": [
        "eval_env = gym.make(\"LunarLander-v2\")\n",
        "mean_reward, std_reward = evaluate_policy(model, eval_env, n_eval_episodes=10, deterministic=True)\n",
        "print(f\"mean_reward={mean_reward:.2f} +/- {std_reward}\")"
      ],
      "metadata": {
        "colab": {
          "base_uri": "https://localhost:8080/"
        },
        "id": "VVtgfBnjvN4Y",
        "outputId": "7b9c6396-eab9-49d1-c6f4-717c15989f82"
      },
      "execution_count": 10,
      "outputs": [
        {
          "output_type": "stream",
          "name": "stderr",
          "text": [
            "/usr/local/lib/python3.7/dist-packages/stable_baselines3/common/evaluation.py:69: UserWarning: Evaluation environment is not wrapped with a ``Monitor`` wrapper. This may result in reporting modified episode lengths and rewards, if other wrappers happen to modify these. Consider wrapping environment first with ``Monitor`` wrapper.\n",
            "  UserWarning,\n"
          ]
        },
        {
          "output_type": "stream",
          "name": "stdout",
          "text": [
            "mean_reward=-157.76 +/- 58.3146638597205\n"
          ]
        }
      ]
    },
    {
      "cell_type": "code",
      "source": [
        "notebook_login()\n",
        "!git config --global credential.helper store"
      ],
      "metadata": {
        "colab": {
          "base_uri": "https://localhost:8080/",
          "height": 331,
          "referenced_widgets": [
            "0ea7cd21e4594ee090f32ebd579cb662",
            "f5ab981fd07942cf91a2942b725449a4",
            "b88fe67724534986abd20fd98ab81c02",
            "69759d288bd647f1bd5651f86abf7579",
            "bf6ed2d95b7b4541925ea5b165163082",
            "c93344741a224c65acc8389368381c2c",
            "355cfe6adeed4fb68d998fbecac58634",
            "bbd66394dbb149f8bd883e181e4d9953",
            "cb3ede82128f46208923ea63264558ec",
            "473fd26376c84cf0bad9d239999486c7",
            "8a0109ae776e4e37bb3fa4e69582b844",
            "0274f15f8cda44eebadbc546b9bc18f0",
            "a29d37a7d9c84a33813661445f54d93c",
            "51bd67551df247aba378df84388b09e5",
            "774e08ba73214c22b5a7e52cd7e680a5",
            "88b2aa9ce5ca4873897ecafc140a2a1f",
            "6b999a25495245bfa4ad65548f5c4f6f"
          ]
        },
        "id": "mC0e2YgkxNPK",
        "outputId": "2fb53eb9-e8e9-431a-99f7-b0a76f6c52d9"
      },
      "execution_count": 14,
      "outputs": [
        {
          "output_type": "stream",
          "name": "stdout",
          "text": [
            "Token is valid.\n",
            "Your token has been saved in your configured git credential helpers (store).\n",
            "Your token has been saved to /root/.huggingface/token\n",
            "Login successful\n"
          ]
        }
      ]
    },
    {
      "cell_type": "code",
      "source": [
        "import gym\n",
        "\n",
        "from stable_baselines3 import PPO\n",
        "from stable_baselines3.common.vec_env import DummyVecEnv\n",
        "from stable_baselines3.common.env_util import make_vec_env\n",
        "\n",
        "from huggingface_sb3 import package_to_hub\n",
        "\n",
        "# PLACE the variables you've just defined two cells above\n",
        "# Define the name of the environment\n",
        "env_id = \"LunarLander-v2\"\n",
        "\n",
        "# TODO: Define the model architecture we used\n",
        "model_architecture = \"PPO\"\n",
        "\n",
        "## Define a repo_id\n",
        "## repo_id is the id of the model repository from the Hugging Face Hub (repo_id = {organization}/{repo_name} for instance ThomasSimonini/ppo-LunarLander-v2\n",
        "## CHANGE WITH YOUR REPO ID\n",
        "repo_id = \"aashay96/ppo-LunarLander-v2\"\n",
        "\n",
        "## Define the commit message\n",
        "commit_message = \"Upload PPO LunarLander-v2 trained agent\"\n",
        "\n",
        "# Create the evaluation env\n",
        "eval_env = DummyVecEnv([lambda: gym.make(env_id)])\n",
        "\n",
        "# PLACE the package_to_hub function you've just filled here\n",
        "package_to_hub(model=model, # Our trained model\n",
        "               model_name=model_name, # The name of our trained model \n",
        "               model_architecture=model_architecture, # The model architecture we used: in our case PPO\n",
        "               env_id=env_id, # Name of the environment\n",
        "               eval_env=eval_env, # Evaluation Environment\n",
        "               repo_id=repo_id, # id of the model repository from the Hugging Face Hub (repo_id = {organization}/{repo_name} for instance ThomasSimonini/ppo-LunarLander-v2\n",
        "               commit_message=commit_message)"
      ],
      "metadata": {
        "colab": {
          "base_uri": "https://localhost:8080/",
          "height": 216
        },
        "id": "Gi7sJAt6xRuE",
        "outputId": "b8f8350b-3f58-4fa1-aa1b-cdca2b0f0543"
      },
      "execution_count": 15,
      "outputs": [
        {
          "output_type": "stream",
          "name": "stdout",
          "text": [
            "\u001b[38;5;4mℹ This function will save, evaluate, generate a video of your agent,\n",
            "create a model card and push everything to the hub. It might take up to 1min.\n",
            "This is a work in progress: if you encounter a bug, please open an issue.\u001b[0m\n"
          ]
        },
        {
          "output_type": "stream",
          "name": "stderr",
          "text": [
            "/usr/local/lib/python3.7/dist-packages/stable_baselines3/common/evaluation.py:69: UserWarning: Evaluation environment is not wrapped with a ``Monitor`` wrapper. This may result in reporting modified episode lengths and rewards, if other wrappers happen to modify these. Consider wrapping environment first with ``Monitor`` wrapper.\n",
            "  UserWarning,\n"
          ]
        },
        {
          "output_type": "stream",
          "name": "stdout",
          "text": [
            "Saving video to /tmp/tmpven5lxje/-step-0-to-step-1000.mp4\n",
            "\u001b[38;5;4mℹ Pushing repo aashay96/ppo-LunarLander-v2 to the Hugging Face Hub\u001b[0m\n",
            "\u001b[38;5;4mℹ Your model is pushed to the Hub. You can view your model here:\n",
            "https://huggingface.co/aashay96/ppo-LunarLander-v2/tree/main/\u001b[0m\n"
          ]
        },
        {
          "output_type": "execute_result",
          "data": {
            "text/plain": [
              "'https://huggingface.co/aashay96/ppo-LunarLander-v2/tree/main/'"
            ],
            "application/vnd.google.colaboratory.intrinsic+json": {
              "type": "string"
            }
          },
          "metadata": {},
          "execution_count": 15
        }
      ]
    },
    {
      "cell_type": "code",
      "source": [
        "!pip install gym pyvirtualdisplay > /dev/null 2>&1\n",
        "!apt-get install -y xvfb python-opengl ffmpeg > /dev/null 2>&1\n",
        "!pip install -U colabgymrender\n",
        "\n",
        "!pip install imageio==2.4.1"
      ],
      "metadata": {
        "colab": {
          "base_uri": "https://localhost:8080/"
        },
        "id": "DKupW-6c2uNU",
        "outputId": "15d1febf-ff85-40a7-94aa-dac13bc14d7e"
      },
      "execution_count": 16,
      "outputs": [
        {
          "output_type": "stream",
          "name": "stdout",
          "text": [
            "Looking in indexes: https://pypi.org/simple, https://us-python.pkg.dev/colab-wheels/public/simple/\n",
            "Collecting colabgymrender\n",
            "  Downloading colabgymrender-1.1.0.tar.gz (3.5 kB)\n",
            "Requirement already satisfied: moviepy in /usr/local/lib/python3.7/dist-packages (from colabgymrender) (0.2.3.5)\n",
            "Requirement already satisfied: numpy in /usr/local/lib/python3.7/dist-packages (from moviepy->colabgymrender) (1.21.6)\n",
            "Requirement already satisfied: tqdm<5.0,>=4.11.2 in /usr/local/lib/python3.7/dist-packages (from moviepy->colabgymrender) (4.64.1)\n",
            "Requirement already satisfied: decorator<5.0,>=4.0.2 in /usr/local/lib/python3.7/dist-packages (from moviepy->colabgymrender) (4.4.2)\n",
            "Requirement already satisfied: imageio<3.0,>=2.1.2 in /usr/local/lib/python3.7/dist-packages (from moviepy->colabgymrender) (2.9.0)\n",
            "Requirement already satisfied: pillow in /usr/local/lib/python3.7/dist-packages (from imageio<3.0,>=2.1.2->moviepy->colabgymrender) (7.1.2)\n",
            "Building wheels for collected packages: colabgymrender\n",
            "  Building wheel for colabgymrender (setup.py) ... \u001b[?25l\u001b[?25hdone\n",
            "  Created wheel for colabgymrender: filename=colabgymrender-1.1.0-py3-none-any.whl size=3130 sha256=c002e8000e37c518ed4f430bf9d43efa4fbbf0e7d856113021f1010a4f1973d4\n",
            "  Stored in directory: /root/.cache/pip/wheels/f1/0a/2a/86955ea711b461ab7918236fed2568733f75ed677d0524b56c\n",
            "Successfully built colabgymrender\n",
            "Installing collected packages: colabgymrender\n",
            "Successfully installed colabgymrender-1.1.0\n",
            "Looking in indexes: https://pypi.org/simple, https://us-python.pkg.dev/colab-wheels/public/simple/\n",
            "Collecting imageio==2.4.1\n",
            "  Downloading imageio-2.4.1.tar.gz (3.3 MB)\n",
            "\u001b[K     |████████████████████████████████| 3.3 MB 5.3 MB/s \n",
            "\u001b[?25hRequirement already satisfied: numpy in /usr/local/lib/python3.7/dist-packages (from imageio==2.4.1) (1.21.6)\n",
            "Requirement already satisfied: pillow in /usr/local/lib/python3.7/dist-packages (from imageio==2.4.1) (7.1.2)\n",
            "Building wheels for collected packages: imageio\n",
            "  Building wheel for imageio (setup.py) ... \u001b[?25l\u001b[?25hdone\n",
            "  Created wheel for imageio: filename=imageio-2.4.1-py3-none-any.whl size=3303886 sha256=4b9d859f4ff7e21f1f7cd3c210d08456b97dae8f59cdf20bf0030fc60df63832\n",
            "  Stored in directory: /root/.cache/pip/wheels/46/20/07/7bb9c8c44e6ec2efa60fd0e6280094f53f65f41767ef69a5ee\n",
            "Successfully built imageio\n",
            "Installing collected packages: imageio\n",
            "  Attempting uninstall: imageio\n",
            "    Found existing installation: imageio 2.9.0\n",
            "    Uninstalling imageio-2.9.0:\n",
            "      Successfully uninstalled imageio-2.9.0\n",
            "Successfully installed imageio-2.4.1\n"
          ]
        }
      ]
    },
    {
      "cell_type": "code",
      "source": [
        "from colabgymrender.recorder import Recorder\n",
        "\n",
        "directory = './video'\n",
        "env = Recorder(eval_env, directory)\n",
        "\n"
      ],
      "metadata": {
        "id": "WT1_B6Ex22-Q"
      },
      "execution_count": 19,
      "outputs": []
    },
    {
      "cell_type": "code",
      "source": [
        "obs = env.reset()\n",
        "done = False\n",
        "while not done:\n",
        "  action, _state = model.predict(obs)\n",
        "  obs, reward, done, info = env.step(action)\n",
        "env.play()"
      ],
      "metadata": {
        "colab": {
          "base_uri": "https://localhost:8080/",
          "height": 421
        },
        "id": "Hz5cJff73QW0",
        "outputId": "c4e9b996-b334-40a4-ba63-cd294f216289"
      },
      "execution_count": 21,
      "outputs": [
        {
          "output_type": "display_data",
          "data": {
            "text/plain": [
              "<IPython.core.display.Video object>"
            ],
            "text/html": [
              "<video controls  >\n",
              " <source src=\"data:video/mp4;base64,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\" type=\"video/mp4\">\n",
              " Your browser does not support the video tag.\n",
              " </video>"
            ]
          },
          "metadata": {}
        }
      ]
    },
    {
      "cell_type": "code",
      "source": [],
      "metadata": {
        "colab": {
          "base_uri": "https://localhost:8080/"
        },
        "id": "yVjRHpTEDaJm",
        "outputId": "f15e5706-44c7-472f-8376-95677816269a"
      },
      "execution_count": 22,
      "outputs": [
        {
          "output_type": "stream",
          "name": "stdout",
          "text": [
            "fatal: not a git repository (or any of the parent directories): .git\n"
          ]
        }
      ]
    },
    {
      "cell_type": "code",
      "source": [],
      "metadata": {
        "id": "PLCl3WksDgDg"
      },
      "execution_count": null,
      "outputs": []
    },
    {
      "cell_type": "code",
      "source": [],
      "metadata": {
        "id": "ftF4ZQ19DgDg"
      },
      "execution_count": null,
      "outputs": []
    }
  ]
}